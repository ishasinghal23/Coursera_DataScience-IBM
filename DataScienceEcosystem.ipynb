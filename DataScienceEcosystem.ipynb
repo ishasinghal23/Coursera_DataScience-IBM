{
 "cells": [
  {
   "cell_type": "markdown",
   "id": "37136f76",
   "metadata": {},
   "source": [
    "# Data Science Tools and Ecosystem"
   ]
  },
  {
   "cell_type": "markdown",
   "id": "c85369d9",
   "metadata": {},
   "source": [
    "In this notebook, Data Science Tools and Ecosystem are summarized."
   ]
  },
  {
   "cell_type": "markdown",
   "id": "5234b09e",
   "metadata": {},
   "source": [
    "***Objectives:***\n",
    "- list of popular languages for data science\n",
    "- list of commonly used libraries for data science\n",
    "- list of commonly used tools for data science\n",
    "- how to make ordered list in markdown\n",
    "- how to make tables in markdown"
   ]
  },
  {
   "cell_type": "markdown",
   "id": "546b3090",
   "metadata": {},
   "source": [
    "## Author: \n",
    "Isha Singhal"
   ]
  },
  {
   "cell_type": "markdown",
   "id": "552c5221",
   "metadata": {},
   "source": [
    "<ol>\n",
    "    <p>Some of the popular languages that Data Scientists use are:</p>\n",
    "    <li>Python</li>\n",
    "    <li>R language</li>\n",
    "    <li>Julia</li>\n",
    "    <li>Scala</li>\n",
    "</ol>"
   ]
  },
  {
   "cell_type": "markdown",
   "id": "df5ac591",
   "metadata": {},
   "source": [
    "<ol>\n",
    "    <p>Some of the commonly used libraries used by Data Scientists include:</p>\n",
    "    <li>Numpy</li>\n",
    "    <li>Keras</li>\n",
    "    <li>Pandas</li>\n",
    "    <li>Scikit-Learn</li>\n",
    "</ol>"
   ]
  },
  {
   "cell_type": "markdown",
   "id": "760e1d3f",
   "metadata": {},
   "source": [
    "| Data Science Tools | \n",
    "| -------------|\n",
    "| Jupyter Notebook |\n",
    "| R Studio |\n",
    "| Visual Studio |"
   ]
  },
  {
   "cell_type": "markdown",
   "id": "df79966c",
   "metadata": {},
   "source": [
    "### Below are a few examples of evaluating arithmetic expressions in Python"
   ]
  },
  {
   "cell_type": "code",
   "execution_count": 4,
   "id": "ef2ff6fb",
   "metadata": {},
   "outputs": [
    {
     "data": {
      "text/plain": [
       "17"
      ]
     },
     "execution_count": 4,
     "metadata": {},
     "output_type": "execute_result"
    }
   ],
   "source": [
    "#This a simple arithmetic expression to mutiply then add integers\n",
    "(3*4)+5"
   ]
  },
  {
   "cell_type": "code",
   "execution_count": 6,
   "id": "04d7eda0",
   "metadata": {},
   "outputs": [
    {
     "data": {
      "text/plain": [
       "3.3333333333333335"
      ]
     },
     "execution_count": 6,
     "metadata": {},
     "output_type": "execute_result"
    }
   ],
   "source": [
    "#This will convert 200 minutes to hours by diving by 60\n",
    "\n",
    "def minutesToHours(minutes):\n",
    "    hours = minutes/60\n",
    "    return hours\n",
    "\n",
    "minutesToHours(200)"
   ]
  },
  {
   "cell_type": "markdown",
   "id": "3bb2fc0a",
   "metadata": {},
   "source": []
  },
  {
   "cell_type": "code",
   "execution_count": null,
   "id": "064e23c6",
   "metadata": {},
   "outputs": [],
   "source": []
  }
 ],
 "metadata": {
  "kernelspec": {
   "display_name": "Python 3 (ipykernel)",
   "language": "python",
   "name": "python3"
  },
  "language_info": {
   "codemirror_mode": {
    "name": "ipython",
    "version": 3
   },
   "file_extension": ".py",
   "mimetype": "text/x-python",
   "name": "python",
   "nbconvert_exporter": "python",
   "pygments_lexer": "ipython3",
   "version": "3.11.5"
  }
 },
 "nbformat": 4,
 "nbformat_minor": 5
}
